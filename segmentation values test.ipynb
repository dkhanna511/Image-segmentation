{
 "cells": [
  {
   "cell_type": "code",
   "execution_count": 9,
   "metadata": {},
   "outputs": [
    {
     "name": "stdout",
     "output_type": "stream",
     "text": [
      "[ 1  1  2  3  4  5  6  7  8  9 10 11 11 12 11 23 34]\n",
      "<class 'numpy.ndarray'>\n",
      "[ 1  2  3  4  5  6  7  8  9 10 11 12 23 34]\n",
      "1\n",
      "34\n",
      "11\n",
      "0\n",
      "[ 0  1  2  3  4  5  6  7  8  9 10 11]\n"
     ]
    }
   ],
   "source": [
    "import numpy as np\n",
    "array = [1, 1, 2, 3, 4, 5, 6, 7, 8, 9, 10, 11, 11, 12, 11, 23, 34]\n",
    "array = np.array(array)\n",
    "print(array)\n",
    "print(type(array))\n",
    "\n",
    "print(np.unique(array))\n",
    "print(np.min(array))\n",
    "print(np.max(array))\n",
    "import cv2\n",
    "img = cv2.imread('/media/dheeraj/9A26F0CB26F0AA01/WORK/github_repo/Image-segmentation/dataset1/annotations_prepped_test/0016E5_08135.png')\n",
    "    \n",
    "print(np.max(img))\n",
    "print(np.min(img))\n",
    "print(np.unique(img))"
   ]
  }
 ],
 "metadata": {
  "kernelspec": {
   "display_name": "Python 3",
   "language": "python",
   "name": "python3"
  },
  "language_info": {
   "codemirror_mode": {
    "name": "ipython",
    "version": 3
   },
   "file_extension": ".py",
   "mimetype": "text/x-python",
   "name": "python",
   "nbconvert_exporter": "python",
   "pygments_lexer": "ipython3",
   "version": "3.5.2"
  }
 },
 "nbformat": 4,
 "nbformat_minor": 2
}
